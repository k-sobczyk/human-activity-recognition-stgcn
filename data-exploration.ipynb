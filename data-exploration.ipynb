{
 "cells": [
  {
   "cell_type": "code",
   "id": "initial_id",
   "metadata": {
    "collapsed": true,
    "ExecuteTime": {
     "end_time": "2024-12-15T15:00:45.183309Z",
     "start_time": "2024-12-15T15:00:45.181439Z"
    }
   },
   "source": [
    "import pandas as pd\n",
    "import numpy as np\n",
    "import torch"
   ],
   "outputs": [],
   "execution_count": 43
  },
  {
   "metadata": {
    "ExecuteTime": {
     "end_time": "2024-12-15T15:00:45.189557Z",
     "start_time": "2024-12-15T15:00:45.185312Z"
    }
   },
   "cell_type": "code",
   "source": "labels_df = pd.read_csv('data\\labels.csv', header=None, names=['frame', 'exercise'])",
   "id": "9712eefc2ba94b8f",
   "outputs": [],
   "execution_count": 44
  },
  {
   "metadata": {},
   "cell_type": "code",
   "outputs": [],
   "execution_count": null,
   "source": "# What exercises was performed? How was it perfomed?",
   "id": "6ac811837d8ea965"
  },
  {
   "metadata": {},
   "cell_type": "code",
   "outputs": [],
   "execution_count": null,
   "source": "# Dataset from where how it was collected and whats the datainside mean?",
   "id": "72854b1432820998"
  },
  {
   "metadata": {
    "ExecuteTime": {
     "end_time": "2024-12-15T15:00:45.205096Z",
     "start_time": "2024-12-15T15:00:45.201081Z"
    }
   },
   "cell_type": "code",
   "source": [
    "# where -001 mean no exercise was performed within those frames\n",
    "# whole dataset it\n",
    "labels_df"
   ],
   "id": "8b5ba4997165479",
   "outputs": [
    {
     "data": {
      "text/plain": [
       "      frame  exercise\n",
       "0         0        -1\n",
       "1         1        -1\n",
       "2         2        -1\n",
       "3         3        -1\n",
       "4         4        -1\n",
       "...     ...       ...\n",
       "8403   8403        -1\n",
       "8404   8404        -1\n",
       "8405   8405        -1\n",
       "8406   8406        -1\n",
       "8407   8407        -1\n",
       "\n",
       "[8408 rows x 2 columns]"
      ],
      "text/html": [
       "<div>\n",
       "<style scoped>\n",
       "    .dataframe tbody tr th:only-of-type {\n",
       "        vertical-align: middle;\n",
       "    }\n",
       "\n",
       "    .dataframe tbody tr th {\n",
       "        vertical-align: top;\n",
       "    }\n",
       "\n",
       "    .dataframe thead th {\n",
       "        text-align: right;\n",
       "    }\n",
       "</style>\n",
       "<table border=\"1\" class=\"dataframe\">\n",
       "  <thead>\n",
       "    <tr style=\"text-align: right;\">\n",
       "      <th></th>\n",
       "      <th>frame</th>\n",
       "      <th>exercise</th>\n",
       "    </tr>\n",
       "  </thead>\n",
       "  <tbody>\n",
       "    <tr>\n",
       "      <th>0</th>\n",
       "      <td>0</td>\n",
       "      <td>-1</td>\n",
       "    </tr>\n",
       "    <tr>\n",
       "      <th>1</th>\n",
       "      <td>1</td>\n",
       "      <td>-1</td>\n",
       "    </tr>\n",
       "    <tr>\n",
       "      <th>2</th>\n",
       "      <td>2</td>\n",
       "      <td>-1</td>\n",
       "    </tr>\n",
       "    <tr>\n",
       "      <th>3</th>\n",
       "      <td>3</td>\n",
       "      <td>-1</td>\n",
       "    </tr>\n",
       "    <tr>\n",
       "      <th>4</th>\n",
       "      <td>4</td>\n",
       "      <td>-1</td>\n",
       "    </tr>\n",
       "    <tr>\n",
       "      <th>...</th>\n",
       "      <td>...</td>\n",
       "      <td>...</td>\n",
       "    </tr>\n",
       "    <tr>\n",
       "      <th>8403</th>\n",
       "      <td>8403</td>\n",
       "      <td>-1</td>\n",
       "    </tr>\n",
       "    <tr>\n",
       "      <th>8404</th>\n",
       "      <td>8404</td>\n",
       "      <td>-1</td>\n",
       "    </tr>\n",
       "    <tr>\n",
       "      <th>8405</th>\n",
       "      <td>8405</td>\n",
       "      <td>-1</td>\n",
       "    </tr>\n",
       "    <tr>\n",
       "      <th>8406</th>\n",
       "      <td>8406</td>\n",
       "      <td>-1</td>\n",
       "    </tr>\n",
       "    <tr>\n",
       "      <th>8407</th>\n",
       "      <td>8407</td>\n",
       "      <td>-1</td>\n",
       "    </tr>\n",
       "  </tbody>\n",
       "</table>\n",
       "<p>8408 rows × 2 columns</p>\n",
       "</div>"
      ]
     },
     "execution_count": 45,
     "metadata": {},
     "output_type": "execute_result"
    }
   ],
   "execution_count": 45
  },
  {
   "metadata": {
    "ExecuteTime": {
     "end_time": "2024-12-15T15:00:45.333193Z",
     "start_time": "2024-12-15T15:00:45.236350Z"
    }
   },
   "cell_type": "code",
   "source": "landmarks_df = pd.read_csv('data\\landmarks.csv')",
   "id": "61705f699ad100d7",
   "outputs": [],
   "execution_count": 46
  },
  {
   "metadata": {
    "ExecuteTime": {
     "end_time": "2024-12-15T15:00:45.359083Z",
     "start_time": "2024-12-15T15:00:45.348103Z"
    }
   },
   "cell_type": "code",
   "source": [
    "# Dropping face keypoints as they are not necessary for movement\n",
    "\n",
    "head_landmarks = [\n",
    "    'NOSE', 'LEFT_EYE_INNER', 'LEFT_EYE', 'LEFT_EYE_OUTER',\n",
    "    'RIGHT_EYE_INNER', 'RIGHT_EYE', 'RIGHT_EYE_OUTER',\n",
    "    'LEFT_EAR', 'RIGHT_EAR', 'MOUTH_LEFT', 'MOUTH_RIGHT'\n",
    "]\n",
    "\n",
    "landmarks_df = landmarks_df[~landmarks_df['landmark'].isin(head_landmarks)]"
   ],
   "id": "8286266e837cd824",
   "outputs": [],
   "execution_count": 47
  },
  {
   "metadata": {
    "ExecuteTime": {
     "end_time": "2024-12-15T15:00:45.384290Z",
     "start_time": "2024-12-15T15:00:45.381274Z"
    }
   },
   "cell_type": "code",
   "source": [
    "def process_landmarks_data(df):\n",
    "    pivoted_df = df.pivot(index='frame_number', \n",
    "                         columns='landmark', \n",
    "                         values=['x', 'y', 'z'])\n",
    "    \n",
    "    pivoted_df.columns = [f'{landmark}_{coord}' \n",
    "                         for coord, landmark in pivoted_df.columns]\n",
    "    \n",
    "    return pivoted_df.reset_index()"
   ],
   "id": "fb05afb12cb75f67",
   "outputs": [],
   "execution_count": 48
  },
  {
   "metadata": {
    "ExecuteTime": {
     "end_time": "2024-12-15T15:00:45.416270Z",
     "start_time": "2024-12-15T15:00:45.386294Z"
    }
   },
   "cell_type": "code",
   "source": "processed_landmarks_df = process_landmarks_data(landmarks_df)",
   "id": "c06d72614cf53575",
   "outputs": [],
   "execution_count": 49
  },
  {
   "metadata": {
    "ExecuteTime": {
     "end_time": "2024-12-15T15:00:45.433239Z",
     "start_time": "2024-12-15T15:00:45.427928Z"
    }
   },
   "cell_type": "code",
   "source": [
    "df = pd.merge(processed_landmarks_df, \n",
    "                    labels_df,\n",
    "                    left_on='frame_number',\n",
    "                    right_on='frame',\n",
    "                    how='left')\n",
    "\n",
    "if 'frame' in df.columns:\n",
    "    df = df.drop('frame', axis=1)"
   ],
   "id": "3bb1cb2903cc27d8",
   "outputs": [],
   "execution_count": 50
  },
  {
   "metadata": {
    "ExecuteTime": {
     "end_time": "2024-12-15T15:00:45.447066Z",
     "start_time": "2024-12-15T15:00:45.444156Z"
    }
   },
   "cell_type": "code",
   "source": "df['exercise'] = pd.to_numeric(df['exercise'])",
   "id": "8e5d2dad5997c968",
   "outputs": [],
   "execution_count": 51
  },
  {
   "metadata": {
    "ExecuteTime": {
     "end_time": "2024-12-15T15:00:45.475405Z",
     "start_time": "2024-12-15T15:00:45.468066Z"
    }
   },
   "cell_type": "code",
   "source": "df.head(5)",
   "id": "1c5506f4d880d526",
   "outputs": [
    {
     "data": {
      "text/plain": [
       "   frame_number  LEFT_ANKLE_x  LEFT_ELBOW_x  LEFT_FOOT_INDEX_x  LEFT_HEEL_x  \\\n",
       "0             0      0.425988      0.494306           0.428707     0.422518   \n",
       "1             1      0.425991      0.492015           0.429230     0.422464   \n",
       "2             2      0.426002      0.492051           0.429614     0.422390   \n",
       "3             3      0.426009      0.491493           0.429729     0.422354   \n",
       "4             4      0.426016      0.491555           0.429806     0.422302   \n",
       "\n",
       "   LEFT_HIP_x  LEFT_INDEX_x  LEFT_KNEE_x  LEFT_PINKY_x  LEFT_SHOULDER_x  ...  \\\n",
       "0    0.435416      0.485270     0.433883      0.491423         0.461974  ...   \n",
       "1    0.435435      0.486416     0.433899      0.491631         0.462259  ...   \n",
       "2    0.435449      0.486873     0.433885      0.491749         0.462260  ...   \n",
       "3    0.435497      0.489670     0.433865      0.493546         0.462321  ...   \n",
       "4    0.435549      0.490590     0.433850      0.494380         0.462301  ...   \n",
       "\n",
       "   RIGHT_FOOT_INDEX_z  RIGHT_HEEL_z  RIGHT_HIP_z  RIGHT_INDEX_z  RIGHT_KNEE_z  \\\n",
       "0            0.007676      0.154726    -0.000382      -0.396696     -0.026579   \n",
       "1           -0.007274      0.134753    -0.000387      -0.379396     -0.027667   \n",
       "2           -0.024269      0.114152    -0.000389      -0.383162     -0.032323   \n",
       "3           -0.018429      0.120855    -0.001726      -0.383996     -0.034625   \n",
       "4           -0.020860      0.117655    -0.002175      -0.389861     -0.035089   \n",
       "\n",
       "   RIGHT_PINKY_z  RIGHT_SHOULDER_z  RIGHT_THUMB_z  RIGHT_WRIST_z  exercise  \n",
       "0      -0.388740          0.042103      -0.346265      -0.336874        -1  \n",
       "1      -0.369601          0.052328      -0.329296      -0.318225        -1  \n",
       "2      -0.371824          0.058376      -0.330526      -0.319684        -1  \n",
       "3      -0.384327          0.055875      -0.340302      -0.333625        -1  \n",
       "4      -0.393997          0.054835      -0.349526      -0.344045        -1  \n",
       "\n",
       "[5 rows x 68 columns]"
      ],
      "text/html": [
       "<div>\n",
       "<style scoped>\n",
       "    .dataframe tbody tr th:only-of-type {\n",
       "        vertical-align: middle;\n",
       "    }\n",
       "\n",
       "    .dataframe tbody tr th {\n",
       "        vertical-align: top;\n",
       "    }\n",
       "\n",
       "    .dataframe thead th {\n",
       "        text-align: right;\n",
       "    }\n",
       "</style>\n",
       "<table border=\"1\" class=\"dataframe\">\n",
       "  <thead>\n",
       "    <tr style=\"text-align: right;\">\n",
       "      <th></th>\n",
       "      <th>frame_number</th>\n",
       "      <th>LEFT_ANKLE_x</th>\n",
       "      <th>LEFT_ELBOW_x</th>\n",
       "      <th>LEFT_FOOT_INDEX_x</th>\n",
       "      <th>LEFT_HEEL_x</th>\n",
       "      <th>LEFT_HIP_x</th>\n",
       "      <th>LEFT_INDEX_x</th>\n",
       "      <th>LEFT_KNEE_x</th>\n",
       "      <th>LEFT_PINKY_x</th>\n",
       "      <th>LEFT_SHOULDER_x</th>\n",
       "      <th>...</th>\n",
       "      <th>RIGHT_FOOT_INDEX_z</th>\n",
       "      <th>RIGHT_HEEL_z</th>\n",
       "      <th>RIGHT_HIP_z</th>\n",
       "      <th>RIGHT_INDEX_z</th>\n",
       "      <th>RIGHT_KNEE_z</th>\n",
       "      <th>RIGHT_PINKY_z</th>\n",
       "      <th>RIGHT_SHOULDER_z</th>\n",
       "      <th>RIGHT_THUMB_z</th>\n",
       "      <th>RIGHT_WRIST_z</th>\n",
       "      <th>exercise</th>\n",
       "    </tr>\n",
       "  </thead>\n",
       "  <tbody>\n",
       "    <tr>\n",
       "      <th>0</th>\n",
       "      <td>0</td>\n",
       "      <td>0.425988</td>\n",
       "      <td>0.494306</td>\n",
       "      <td>0.428707</td>\n",
       "      <td>0.422518</td>\n",
       "      <td>0.435416</td>\n",
       "      <td>0.485270</td>\n",
       "      <td>0.433883</td>\n",
       "      <td>0.491423</td>\n",
       "      <td>0.461974</td>\n",
       "      <td>...</td>\n",
       "      <td>0.007676</td>\n",
       "      <td>0.154726</td>\n",
       "      <td>-0.000382</td>\n",
       "      <td>-0.396696</td>\n",
       "      <td>-0.026579</td>\n",
       "      <td>-0.388740</td>\n",
       "      <td>0.042103</td>\n",
       "      <td>-0.346265</td>\n",
       "      <td>-0.336874</td>\n",
       "      <td>-1</td>\n",
       "    </tr>\n",
       "    <tr>\n",
       "      <th>1</th>\n",
       "      <td>1</td>\n",
       "      <td>0.425991</td>\n",
       "      <td>0.492015</td>\n",
       "      <td>0.429230</td>\n",
       "      <td>0.422464</td>\n",
       "      <td>0.435435</td>\n",
       "      <td>0.486416</td>\n",
       "      <td>0.433899</td>\n",
       "      <td>0.491631</td>\n",
       "      <td>0.462259</td>\n",
       "      <td>...</td>\n",
       "      <td>-0.007274</td>\n",
       "      <td>0.134753</td>\n",
       "      <td>-0.000387</td>\n",
       "      <td>-0.379396</td>\n",
       "      <td>-0.027667</td>\n",
       "      <td>-0.369601</td>\n",
       "      <td>0.052328</td>\n",
       "      <td>-0.329296</td>\n",
       "      <td>-0.318225</td>\n",
       "      <td>-1</td>\n",
       "    </tr>\n",
       "    <tr>\n",
       "      <th>2</th>\n",
       "      <td>2</td>\n",
       "      <td>0.426002</td>\n",
       "      <td>0.492051</td>\n",
       "      <td>0.429614</td>\n",
       "      <td>0.422390</td>\n",
       "      <td>0.435449</td>\n",
       "      <td>0.486873</td>\n",
       "      <td>0.433885</td>\n",
       "      <td>0.491749</td>\n",
       "      <td>0.462260</td>\n",
       "      <td>...</td>\n",
       "      <td>-0.024269</td>\n",
       "      <td>0.114152</td>\n",
       "      <td>-0.000389</td>\n",
       "      <td>-0.383162</td>\n",
       "      <td>-0.032323</td>\n",
       "      <td>-0.371824</td>\n",
       "      <td>0.058376</td>\n",
       "      <td>-0.330526</td>\n",
       "      <td>-0.319684</td>\n",
       "      <td>-1</td>\n",
       "    </tr>\n",
       "    <tr>\n",
       "      <th>3</th>\n",
       "      <td>3</td>\n",
       "      <td>0.426009</td>\n",
       "      <td>0.491493</td>\n",
       "      <td>0.429729</td>\n",
       "      <td>0.422354</td>\n",
       "      <td>0.435497</td>\n",
       "      <td>0.489670</td>\n",
       "      <td>0.433865</td>\n",
       "      <td>0.493546</td>\n",
       "      <td>0.462321</td>\n",
       "      <td>...</td>\n",
       "      <td>-0.018429</td>\n",
       "      <td>0.120855</td>\n",
       "      <td>-0.001726</td>\n",
       "      <td>-0.383996</td>\n",
       "      <td>-0.034625</td>\n",
       "      <td>-0.384327</td>\n",
       "      <td>0.055875</td>\n",
       "      <td>-0.340302</td>\n",
       "      <td>-0.333625</td>\n",
       "      <td>-1</td>\n",
       "    </tr>\n",
       "    <tr>\n",
       "      <th>4</th>\n",
       "      <td>4</td>\n",
       "      <td>0.426016</td>\n",
       "      <td>0.491555</td>\n",
       "      <td>0.429806</td>\n",
       "      <td>0.422302</td>\n",
       "      <td>0.435549</td>\n",
       "      <td>0.490590</td>\n",
       "      <td>0.433850</td>\n",
       "      <td>0.494380</td>\n",
       "      <td>0.462301</td>\n",
       "      <td>...</td>\n",
       "      <td>-0.020860</td>\n",
       "      <td>0.117655</td>\n",
       "      <td>-0.002175</td>\n",
       "      <td>-0.389861</td>\n",
       "      <td>-0.035089</td>\n",
       "      <td>-0.393997</td>\n",
       "      <td>0.054835</td>\n",
       "      <td>-0.349526</td>\n",
       "      <td>-0.344045</td>\n",
       "      <td>-1</td>\n",
       "    </tr>\n",
       "  </tbody>\n",
       "</table>\n",
       "<p>5 rows × 68 columns</p>\n",
       "</div>"
      ]
     },
     "execution_count": 52,
     "metadata": {},
     "output_type": "execute_result"
    }
   ],
   "execution_count": 52
  },
  {
   "metadata": {
    "ExecuteTime": {
     "end_time": "2024-12-15T15:11:00.653792Z",
     "start_time": "2024-12-15T15:11:00.321832Z"
    }
   },
   "cell_type": "code",
   "source": [
    "# saving table for future dataloader \n",
    "\n",
    "df.to_csv('data\\data.csv', index=False)"
   ],
   "id": "bca4a9d52e47e851",
   "outputs": [],
   "execution_count": 54
  },
  {
   "metadata": {},
   "cell_type": "code",
   "outputs": [],
   "execution_count": null,
   "source": "",
   "id": "395289562f6e4925"
  }
 ],
 "metadata": {
  "kernelspec": {
   "display_name": "Python 3",
   "language": "python",
   "name": "python3"
  },
  "language_info": {
   "codemirror_mode": {
    "name": "ipython",
    "version": 2
   },
   "file_extension": ".py",
   "mimetype": "text/x-python",
   "name": "python",
   "nbconvert_exporter": "python",
   "pygments_lexer": "ipython2",
   "version": "2.7.6"
  }
 },
 "nbformat": 4,
 "nbformat_minor": 5
}
