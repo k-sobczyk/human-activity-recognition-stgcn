{
 "cells": [
  {
   "cell_type": "code",
   "id": "initial_id",
   "metadata": {
    "collapsed": true,
    "ExecuteTime": {
     "end_time": "2024-12-19T17:56:06.564232Z",
     "start_time": "2024-12-19T17:56:03.732124Z"
    }
   },
   "source": [
    "import pandas as pd\n",
    "import numpy as np\n",
    "import torch"
   ],
   "outputs": [],
   "execution_count": 1
  },
  {
   "metadata": {
    "ExecuteTime": {
     "end_time": "2024-12-19T17:56:06.572502Z",
     "start_time": "2024-12-19T17:56:06.567236Z"
    }
   },
   "cell_type": "code",
   "source": "labels_df = pd.read_csv('data\\labels.csv', header=None, names=['frame', 'exercise'])",
   "id": "9712eefc2ba94b8f",
   "outputs": [],
   "execution_count": 2
  },
  {
   "metadata": {
    "ExecuteTime": {
     "end_time": "2024-12-19T17:56:06.700778Z",
     "start_time": "2024-12-19T17:56:06.698333Z"
    }
   },
   "cell_type": "code",
   "source": "# What exercises was performed? How was it perfomed?",
   "id": "6ac811837d8ea965",
   "outputs": [],
   "execution_count": 3
  },
  {
   "metadata": {
    "ExecuteTime": {
     "end_time": "2024-12-19T17:56:06.707094Z",
     "start_time": "2024-12-19T17:56:06.704791Z"
    }
   },
   "cell_type": "code",
   "source": "# Dataset from where how it was collected and whats the datainside mean?",
   "id": "72854b1432820998",
   "outputs": [],
   "execution_count": 4
  },
  {
   "metadata": {
    "ExecuteTime": {
     "end_time": "2024-12-19T17:56:06.718411Z",
     "start_time": "2024-12-19T17:56:06.712Z"
    }
   },
   "cell_type": "code",
   "source": [
    "# where -001 mean no exercise was performed within those frames\n",
    "# whole dataset it\n",
    "labels_df"
   ],
   "id": "8b5ba4997165479",
   "outputs": [
    {
     "data": {
      "text/plain": [
       "      frame  exercise\n",
       "0         0        -1\n",
       "1         1        -1\n",
       "2         2        -1\n",
       "3         3        -1\n",
       "4         4        -1\n",
       "...     ...       ...\n",
       "8403   8403        -1\n",
       "8404   8404        -1\n",
       "8405   8405        -1\n",
       "8406   8406        -1\n",
       "8407   8407        -1\n",
       "\n",
       "[8408 rows x 2 columns]"
      ],
      "text/html": [
       "<div>\n",
       "<style scoped>\n",
       "    .dataframe tbody tr th:only-of-type {\n",
       "        vertical-align: middle;\n",
       "    }\n",
       "\n",
       "    .dataframe tbody tr th {\n",
       "        vertical-align: top;\n",
       "    }\n",
       "\n",
       "    .dataframe thead th {\n",
       "        text-align: right;\n",
       "    }\n",
       "</style>\n",
       "<table border=\"1\" class=\"dataframe\">\n",
       "  <thead>\n",
       "    <tr style=\"text-align: right;\">\n",
       "      <th></th>\n",
       "      <th>frame</th>\n",
       "      <th>exercise</th>\n",
       "    </tr>\n",
       "  </thead>\n",
       "  <tbody>\n",
       "    <tr>\n",
       "      <th>0</th>\n",
       "      <td>0</td>\n",
       "      <td>-1</td>\n",
       "    </tr>\n",
       "    <tr>\n",
       "      <th>1</th>\n",
       "      <td>1</td>\n",
       "      <td>-1</td>\n",
       "    </tr>\n",
       "    <tr>\n",
       "      <th>2</th>\n",
       "      <td>2</td>\n",
       "      <td>-1</td>\n",
       "    </tr>\n",
       "    <tr>\n",
       "      <th>3</th>\n",
       "      <td>3</td>\n",
       "      <td>-1</td>\n",
       "    </tr>\n",
       "    <tr>\n",
       "      <th>4</th>\n",
       "      <td>4</td>\n",
       "      <td>-1</td>\n",
       "    </tr>\n",
       "    <tr>\n",
       "      <th>...</th>\n",
       "      <td>...</td>\n",
       "      <td>...</td>\n",
       "    </tr>\n",
       "    <tr>\n",
       "      <th>8403</th>\n",
       "      <td>8403</td>\n",
       "      <td>-1</td>\n",
       "    </tr>\n",
       "    <tr>\n",
       "      <th>8404</th>\n",
       "      <td>8404</td>\n",
       "      <td>-1</td>\n",
       "    </tr>\n",
       "    <tr>\n",
       "      <th>8405</th>\n",
       "      <td>8405</td>\n",
       "      <td>-1</td>\n",
       "    </tr>\n",
       "    <tr>\n",
       "      <th>8406</th>\n",
       "      <td>8406</td>\n",
       "      <td>-1</td>\n",
       "    </tr>\n",
       "    <tr>\n",
       "      <th>8407</th>\n",
       "      <td>8407</td>\n",
       "      <td>-1</td>\n",
       "    </tr>\n",
       "  </tbody>\n",
       "</table>\n",
       "<p>8408 rows × 2 columns</p>\n",
       "</div>"
      ]
     },
     "execution_count": 5,
     "metadata": {},
     "output_type": "execute_result"
    }
   ],
   "execution_count": 5
  },
  {
   "metadata": {
    "ExecuteTime": {
     "end_time": "2024-12-19T17:56:06.841024Z",
     "start_time": "2024-12-19T17:56:06.744402Z"
    }
   },
   "cell_type": "code",
   "source": "landmarks_df = pd.read_csv('data\\landmarks.csv')",
   "id": "61705f699ad100d7",
   "outputs": [],
   "execution_count": 6
  },
  {
   "metadata": {
    "ExecuteTime": {
     "end_time": "2024-12-19T17:56:06.866146Z",
     "start_time": "2024-12-19T17:56:06.855871Z"
    }
   },
   "cell_type": "code",
   "source": [
    "# Dropping face keypoints as they are not necessary for movement classification\n",
    "\n",
    "head_landmarks = [\n",
    "    'NOSE', 'LEFT_EYE_INNER', 'LEFT_EYE', 'LEFT_EYE_OUTER',\n",
    "    'RIGHT_EYE_INNER', 'RIGHT_EYE', 'RIGHT_EYE_OUTER',\n",
    "    'LEFT_EAR', 'RIGHT_EAR', 'MOUTH_LEFT', 'MOUTH_RIGHT',\n",
    "    # Adding leg landmarks\n",
    "    'LEFT_KNEE', 'RIGHT_KNEE',\n",
    "    'LEFT_ANKLE', 'RIGHT_ANKLE',\n",
    "    'LEFT_HEEL', 'RIGHT_HEEL',\n",
    "    'LEFT_FOOT_INDEX', 'RIGHT_FOOT_INDEX',\n",
    "    # Adding finger landmarks\n",
    "    'LEFT_PINKY', 'RIGHT_PINKY',\n",
    "    'LEFT_INDEX', 'RIGHT_INDEX', \n",
    "    'LEFT_THUMB', 'RIGHT_THUMB'\n",
    "]\n",
    "\n",
    "landmarks_df = landmarks_df[~landmarks_df['landmark'].isin(head_landmarks)]"
   ],
   "id": "8286266e837cd824",
   "outputs": [],
   "execution_count": 7
  },
  {
   "metadata": {
    "ExecuteTime": {
     "end_time": "2024-12-19T17:56:06.880589Z",
     "start_time": "2024-12-19T17:56:06.878151Z"
    }
   },
   "cell_type": "code",
   "source": [
    "def process_landmarks_data(df):\n",
    "    pivoted_df = df.pivot(index='frame_number', \n",
    "                         columns='landmark', \n",
    "                         values=['x', 'y', 'z'])\n",
    "    \n",
    "    pivoted_df.columns = [f'{landmark}_{coord}' \n",
    "                         for coord, landmark in pivoted_df.columns]\n",
    "    \n",
    "    return pivoted_df.reset_index()"
   ],
   "id": "fb05afb12cb75f67",
   "outputs": [],
   "execution_count": 8
  },
  {
   "metadata": {
    "ExecuteTime": {
     "end_time": "2024-12-19T17:56:06.903557Z",
     "start_time": "2024-12-19T17:56:06.887039Z"
    }
   },
   "cell_type": "code",
   "source": "processed_landmarks_df = process_landmarks_data(landmarks_df)",
   "id": "c06d72614cf53575",
   "outputs": [],
   "execution_count": 9
  },
  {
   "metadata": {
    "ExecuteTime": {
     "end_time": "2024-12-19T17:56:06.915042Z",
     "start_time": "2024-12-19T17:56:06.910073Z"
    }
   },
   "cell_type": "code",
   "source": [
    "df = pd.merge(processed_landmarks_df, \n",
    "                    labels_df,\n",
    "                    left_on='frame_number',\n",
    "                    right_on='frame',\n",
    "                    how='left')\n",
    "\n",
    "if 'frame' in df.columns:\n",
    "    df = df.drop('frame', axis=1)"
   ],
   "id": "3bb1cb2903cc27d8",
   "outputs": [],
   "execution_count": 10
  },
  {
   "metadata": {
    "ExecuteTime": {
     "end_time": "2024-12-19T17:56:06.926370Z",
     "start_time": "2024-12-19T17:56:06.923609Z"
    }
   },
   "cell_type": "code",
   "source": "df['exercise'] = pd.to_numeric(df['exercise'])",
   "id": "8e5d2dad5997c968",
   "outputs": [],
   "execution_count": 11
  },
  {
   "metadata": {
    "ExecuteTime": {
     "end_time": "2024-12-19T17:56:06.946702Z",
     "start_time": "2024-12-19T17:56:06.939736Z"
    }
   },
   "cell_type": "code",
   "source": "df.head(5)",
   "id": "1c5506f4d880d526",
   "outputs": [
    {
     "data": {
      "text/plain": [
       "   frame_number  LEFT_ELBOW_x  LEFT_HIP_x  LEFT_SHOULDER_x  LEFT_WRIST_x  \\\n",
       "0             0      0.494306    0.435416         0.461974      0.492193   \n",
       "1             1      0.492015    0.435435         0.462259      0.491906   \n",
       "2             2      0.492051    0.435449         0.462260      0.491421   \n",
       "3             3      0.491493    0.435497         0.462321      0.492260   \n",
       "4             4      0.491555    0.435549         0.462301      0.493636   \n",
       "\n",
       "   RIGHT_ELBOW_x  RIGHT_HIP_x  RIGHT_SHOULDER_x  RIGHT_WRIST_x  LEFT_ELBOW_y  \\\n",
       "0       0.320912     0.381529          0.367181       0.322582      0.507141   \n",
       "1       0.320943     0.381469          0.366824       0.320433      0.521023   \n",
       "2       0.320974     0.381461          0.366673       0.319015      0.517668   \n",
       "3       0.320294     0.381467          0.366689       0.318692      0.525453   \n",
       "4       0.318972     0.381528          0.366703       0.318285      0.523011   \n",
       "\n",
       "   ...  RIGHT_WRIST_y  LEFT_ELBOW_z  LEFT_HIP_z  LEFT_SHOULDER_z  \\\n",
       "0  ...       0.502203     -0.089719    0.000337         0.039939   \n",
       "1  ...       0.503574     -0.093571    0.000344         0.051836   \n",
       "2  ...       0.498068     -0.108150    0.000348         0.058875   \n",
       "3  ...       0.488508     -0.073606    0.001731         0.072559   \n",
       "4  ...       0.481967     -0.078110    0.002196         0.068983   \n",
       "\n",
       "   LEFT_WRIST_z  RIGHT_ELBOW_z  RIGHT_HIP_z  RIGHT_SHOULDER_z  RIGHT_WRIST_z  \\\n",
       "0     -0.346921      -0.075649    -0.000382          0.042103      -0.336874   \n",
       "1     -0.364749      -0.065798    -0.000387          0.052328      -0.318225   \n",
       "2     -0.375957      -0.076405    -0.000389          0.058376      -0.319684   \n",
       "3     -0.326744      -0.084063    -0.001726          0.055875      -0.333625   \n",
       "4     -0.335180      -0.097579    -0.002175          0.054835      -0.344045   \n",
       "\n",
       "   exercise  \n",
       "0        -1  \n",
       "1        -1  \n",
       "2        -1  \n",
       "3        -1  \n",
       "4        -1  \n",
       "\n",
       "[5 rows x 26 columns]"
      ],
      "text/html": [
       "<div>\n",
       "<style scoped>\n",
       "    .dataframe tbody tr th:only-of-type {\n",
       "        vertical-align: middle;\n",
       "    }\n",
       "\n",
       "    .dataframe tbody tr th {\n",
       "        vertical-align: top;\n",
       "    }\n",
       "\n",
       "    .dataframe thead th {\n",
       "        text-align: right;\n",
       "    }\n",
       "</style>\n",
       "<table border=\"1\" class=\"dataframe\">\n",
       "  <thead>\n",
       "    <tr style=\"text-align: right;\">\n",
       "      <th></th>\n",
       "      <th>frame_number</th>\n",
       "      <th>LEFT_ELBOW_x</th>\n",
       "      <th>LEFT_HIP_x</th>\n",
       "      <th>LEFT_SHOULDER_x</th>\n",
       "      <th>LEFT_WRIST_x</th>\n",
       "      <th>RIGHT_ELBOW_x</th>\n",
       "      <th>RIGHT_HIP_x</th>\n",
       "      <th>RIGHT_SHOULDER_x</th>\n",
       "      <th>RIGHT_WRIST_x</th>\n",
       "      <th>LEFT_ELBOW_y</th>\n",
       "      <th>...</th>\n",
       "      <th>RIGHT_WRIST_y</th>\n",
       "      <th>LEFT_ELBOW_z</th>\n",
       "      <th>LEFT_HIP_z</th>\n",
       "      <th>LEFT_SHOULDER_z</th>\n",
       "      <th>LEFT_WRIST_z</th>\n",
       "      <th>RIGHT_ELBOW_z</th>\n",
       "      <th>RIGHT_HIP_z</th>\n",
       "      <th>RIGHT_SHOULDER_z</th>\n",
       "      <th>RIGHT_WRIST_z</th>\n",
       "      <th>exercise</th>\n",
       "    </tr>\n",
       "  </thead>\n",
       "  <tbody>\n",
       "    <tr>\n",
       "      <th>0</th>\n",
       "      <td>0</td>\n",
       "      <td>0.494306</td>\n",
       "      <td>0.435416</td>\n",
       "      <td>0.461974</td>\n",
       "      <td>0.492193</td>\n",
       "      <td>0.320912</td>\n",
       "      <td>0.381529</td>\n",
       "      <td>0.367181</td>\n",
       "      <td>0.322582</td>\n",
       "      <td>0.507141</td>\n",
       "      <td>...</td>\n",
       "      <td>0.502203</td>\n",
       "      <td>-0.089719</td>\n",
       "      <td>0.000337</td>\n",
       "      <td>0.039939</td>\n",
       "      <td>-0.346921</td>\n",
       "      <td>-0.075649</td>\n",
       "      <td>-0.000382</td>\n",
       "      <td>0.042103</td>\n",
       "      <td>-0.336874</td>\n",
       "      <td>-1</td>\n",
       "    </tr>\n",
       "    <tr>\n",
       "      <th>1</th>\n",
       "      <td>1</td>\n",
       "      <td>0.492015</td>\n",
       "      <td>0.435435</td>\n",
       "      <td>0.462259</td>\n",
       "      <td>0.491906</td>\n",
       "      <td>0.320943</td>\n",
       "      <td>0.381469</td>\n",
       "      <td>0.366824</td>\n",
       "      <td>0.320433</td>\n",
       "      <td>0.521023</td>\n",
       "      <td>...</td>\n",
       "      <td>0.503574</td>\n",
       "      <td>-0.093571</td>\n",
       "      <td>0.000344</td>\n",
       "      <td>0.051836</td>\n",
       "      <td>-0.364749</td>\n",
       "      <td>-0.065798</td>\n",
       "      <td>-0.000387</td>\n",
       "      <td>0.052328</td>\n",
       "      <td>-0.318225</td>\n",
       "      <td>-1</td>\n",
       "    </tr>\n",
       "    <tr>\n",
       "      <th>2</th>\n",
       "      <td>2</td>\n",
       "      <td>0.492051</td>\n",
       "      <td>0.435449</td>\n",
       "      <td>0.462260</td>\n",
       "      <td>0.491421</td>\n",
       "      <td>0.320974</td>\n",
       "      <td>0.381461</td>\n",
       "      <td>0.366673</td>\n",
       "      <td>0.319015</td>\n",
       "      <td>0.517668</td>\n",
       "      <td>...</td>\n",
       "      <td>0.498068</td>\n",
       "      <td>-0.108150</td>\n",
       "      <td>0.000348</td>\n",
       "      <td>0.058875</td>\n",
       "      <td>-0.375957</td>\n",
       "      <td>-0.076405</td>\n",
       "      <td>-0.000389</td>\n",
       "      <td>0.058376</td>\n",
       "      <td>-0.319684</td>\n",
       "      <td>-1</td>\n",
       "    </tr>\n",
       "    <tr>\n",
       "      <th>3</th>\n",
       "      <td>3</td>\n",
       "      <td>0.491493</td>\n",
       "      <td>0.435497</td>\n",
       "      <td>0.462321</td>\n",
       "      <td>0.492260</td>\n",
       "      <td>0.320294</td>\n",
       "      <td>0.381467</td>\n",
       "      <td>0.366689</td>\n",
       "      <td>0.318692</td>\n",
       "      <td>0.525453</td>\n",
       "      <td>...</td>\n",
       "      <td>0.488508</td>\n",
       "      <td>-0.073606</td>\n",
       "      <td>0.001731</td>\n",
       "      <td>0.072559</td>\n",
       "      <td>-0.326744</td>\n",
       "      <td>-0.084063</td>\n",
       "      <td>-0.001726</td>\n",
       "      <td>0.055875</td>\n",
       "      <td>-0.333625</td>\n",
       "      <td>-1</td>\n",
       "    </tr>\n",
       "    <tr>\n",
       "      <th>4</th>\n",
       "      <td>4</td>\n",
       "      <td>0.491555</td>\n",
       "      <td>0.435549</td>\n",
       "      <td>0.462301</td>\n",
       "      <td>0.493636</td>\n",
       "      <td>0.318972</td>\n",
       "      <td>0.381528</td>\n",
       "      <td>0.366703</td>\n",
       "      <td>0.318285</td>\n",
       "      <td>0.523011</td>\n",
       "      <td>...</td>\n",
       "      <td>0.481967</td>\n",
       "      <td>-0.078110</td>\n",
       "      <td>0.002196</td>\n",
       "      <td>0.068983</td>\n",
       "      <td>-0.335180</td>\n",
       "      <td>-0.097579</td>\n",
       "      <td>-0.002175</td>\n",
       "      <td>0.054835</td>\n",
       "      <td>-0.344045</td>\n",
       "      <td>-1</td>\n",
       "    </tr>\n",
       "  </tbody>\n",
       "</table>\n",
       "<p>5 rows × 26 columns</p>\n",
       "</div>"
      ]
     },
     "execution_count": 12,
     "metadata": {},
     "output_type": "execute_result"
    }
   ],
   "execution_count": 12
  },
  {
   "metadata": {
    "ExecuteTime": {
     "end_time": "2024-12-19T17:56:07.092421Z",
     "start_time": "2024-12-19T17:56:06.972302Z"
    }
   },
   "cell_type": "code",
   "source": [
    "# saving table for future dataloader \n",
    "\n",
    "df.to_csv('data\\data.csv', index=False)"
   ],
   "id": "bca4a9d52e47e851",
   "outputs": [],
   "execution_count": 13
  },
  {
   "metadata": {
    "ExecuteTime": {
     "end_time": "2024-12-19T17:56:07.119796Z",
     "start_time": "2024-12-19T17:56:07.112733Z"
    }
   },
   "cell_type": "code",
   "source": "df.info()",
   "id": "395289562f6e4925",
   "outputs": [
    {
     "name": "stdout",
     "output_type": "stream",
     "text": [
      "<class 'pandas.core.frame.DataFrame'>\n",
      "RangeIndex: 8407 entries, 0 to 8406\n",
      "Data columns (total 26 columns):\n",
      " #   Column            Non-Null Count  Dtype  \n",
      "---  ------            --------------  -----  \n",
      " 0   frame_number      8407 non-null   int64  \n",
      " 1   LEFT_ELBOW_x      8407 non-null   float64\n",
      " 2   LEFT_HIP_x        8407 non-null   float64\n",
      " 3   LEFT_SHOULDER_x   8407 non-null   float64\n",
      " 4   LEFT_WRIST_x      8407 non-null   float64\n",
      " 5   RIGHT_ELBOW_x     8407 non-null   float64\n",
      " 6   RIGHT_HIP_x       8407 non-null   float64\n",
      " 7   RIGHT_SHOULDER_x  8407 non-null   float64\n",
      " 8   RIGHT_WRIST_x     8407 non-null   float64\n",
      " 9   LEFT_ELBOW_y      8407 non-null   float64\n",
      " 10  LEFT_HIP_y        8407 non-null   float64\n",
      " 11  LEFT_SHOULDER_y   8407 non-null   float64\n",
      " 12  LEFT_WRIST_y      8407 non-null   float64\n",
      " 13  RIGHT_ELBOW_y     8407 non-null   float64\n",
      " 14  RIGHT_HIP_y       8407 non-null   float64\n",
      " 15  RIGHT_SHOULDER_y  8407 non-null   float64\n",
      " 16  RIGHT_WRIST_y     8407 non-null   float64\n",
      " 17  LEFT_ELBOW_z      8407 non-null   float64\n",
      " 18  LEFT_HIP_z        8407 non-null   float64\n",
      " 19  LEFT_SHOULDER_z   8407 non-null   float64\n",
      " 20  LEFT_WRIST_z      8407 non-null   float64\n",
      " 21  RIGHT_ELBOW_z     8407 non-null   float64\n",
      " 22  RIGHT_HIP_z       8407 non-null   float64\n",
      " 23  RIGHT_SHOULDER_z  8407 non-null   float64\n",
      " 24  RIGHT_WRIST_z     8407 non-null   float64\n",
      " 25  exercise          8407 non-null   int64  \n",
      "dtypes: float64(24), int64(2)\n",
      "memory usage: 1.7 MB\n"
     ]
    }
   ],
   "execution_count": 14
  },
  {
   "metadata": {
    "ExecuteTime": {
     "end_time": "2024-12-19T17:56:07.299522Z",
     "start_time": "2024-12-19T17:56:07.181310Z"
    }
   },
   "cell_type": "code",
   "source": [
    "df = df.drop(columns='frame_number')\n",
    "df.to_csv('data\\data_for_model.csv', index=False)"
   ],
   "id": "8f17dd01fb68411c",
   "outputs": [],
   "execution_count": 15
  }
 ],
 "metadata": {
  "kernelspec": {
   "display_name": "Python 3",
   "language": "python",
   "name": "python3"
  },
  "language_info": {
   "codemirror_mode": {
    "name": "ipython",
    "version": 2
   },
   "file_extension": ".py",
   "mimetype": "text/x-python",
   "name": "python",
   "nbconvert_exporter": "python",
   "pygments_lexer": "ipython2",
   "version": "2.7.6"
  }
 },
 "nbformat": 4,
 "nbformat_minor": 5
}
