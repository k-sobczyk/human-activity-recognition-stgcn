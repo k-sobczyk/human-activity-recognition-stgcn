{
 "cells": [
  {
   "cell_type": "code",
   "execution_count": 1,
   "id": "initial_id",
   "metadata": {
    "ExecuteTime": {
     "end_time": "2024-12-19T20:08:24.367421Z",
     "start_time": "2024-12-19T20:08:24.268824Z"
    }
   },
   "outputs": [],
   "source": [
    "import pandas as pd\n",
    "import os\n",
    "\n",
    "labels_df = pd.read_csv(os.path.join('data', 'labels.csv'), header=None, names=['frame', 'exercise'])\n",
    "landmarks_df = pd.read_csv(os.path.join('data', 'landmarks.csv'))"
   ]
  },
  {
   "cell_type": "markdown",
   "id": "5720c4263277c0a7",
   "metadata": {},
   "source": [
    "# What exercises was performed? How was it perfomed?\n",
    "\n",
    "The training session consisted of upper body exercises performed in a university class setting. All exercises were conducted in a stationary standing position using resistance bands.\n",
    "Exercise Structure:\n",
    "* Each exercise was performed for 5 repetitions\n",
    "* Total of 16 different exercise variations\n",
    "* Some exercises were repeated with 3 different angles/variations to target muscles differently\n",
    "* Exercises were performed consecutively (back-to-back)"
   ]
  },
  {
   "cell_type": "code",
   "execution_count": 2,
   "id": "7c566de82dbb80c2",
   "metadata": {
    "ExecuteTime": {
     "end_time": "2024-12-19T20:08:24.377107Z",
     "start_time": "2024-12-19T20:08:24.372423Z"
    }
   },
   "outputs": [
    {
     "data": {
      "text/html": [
       "<div>\n",
       "<style scoped>\n",
       "    .dataframe tbody tr th:only-of-type {\n",
       "        vertical-align: middle;\n",
       "    }\n",
       "\n",
       "    .dataframe tbody tr th {\n",
       "        vertical-align: top;\n",
       "    }\n",
       "\n",
       "    .dataframe thead th {\n",
       "        text-align: right;\n",
       "    }\n",
       "</style>\n",
       "<table border=\"1\" class=\"dataframe\">\n",
       "  <thead>\n",
       "    <tr style=\"text-align: right;\">\n",
       "      <th></th>\n",
       "      <th>frame</th>\n",
       "      <th>exercise</th>\n",
       "    </tr>\n",
       "  </thead>\n",
       "  <tbody>\n",
       "    <tr>\n",
       "      <th>0</th>\n",
       "      <td>0</td>\n",
       "      <td>-1</td>\n",
       "    </tr>\n",
       "    <tr>\n",
       "      <th>1</th>\n",
       "      <td>1</td>\n",
       "      <td>-1</td>\n",
       "    </tr>\n",
       "  </tbody>\n",
       "</table>\n",
       "</div>"
      ],
      "text/plain": [
       "   frame  exercise\n",
       "0      0        -1\n",
       "1      1        -1"
      ]
     },
     "execution_count": 2,
     "metadata": {},
     "output_type": "execute_result"
    }
   ],
   "source": [
    "labels_df.head(2)"
   ]
  },
  {
   "cell_type": "code",
   "execution_count": 3,
   "id": "dd0ec19b8fc80f12",
   "metadata": {
    "ExecuteTime": {
     "end_time": "2024-12-19T20:08:24.410197Z",
     "start_time": "2024-12-19T20:08:24.406160Z"
    }
   },
   "outputs": [
    {
     "data": {
      "text/html": [
       "<div>\n",
       "<style scoped>\n",
       "    .dataframe tbody tr th:only-of-type {\n",
       "        vertical-align: middle;\n",
       "    }\n",
       "\n",
       "    .dataframe tbody tr th {\n",
       "        vertical-align: top;\n",
       "    }\n",
       "\n",
       "    .dataframe thead th {\n",
       "        text-align: right;\n",
       "    }\n",
       "</style>\n",
       "<table border=\"1\" class=\"dataframe\">\n",
       "  <thead>\n",
       "    <tr style=\"text-align: right;\">\n",
       "      <th></th>\n",
       "      <th>frame_number</th>\n",
       "      <th>landmark</th>\n",
       "      <th>x</th>\n",
       "      <th>y</th>\n",
       "      <th>z</th>\n",
       "    </tr>\n",
       "  </thead>\n",
       "  <tbody>\n",
       "    <tr>\n",
       "      <th>0</th>\n",
       "      <td>0</td>\n",
       "      <td>NOSE</td>\n",
       "      <td>0.415256</td>\n",
       "      <td>0.361049</td>\n",
       "      <td>-0.164153</td>\n",
       "    </tr>\n",
       "    <tr>\n",
       "      <th>1</th>\n",
       "      <td>0</td>\n",
       "      <td>LEFT_EYE_INNER</td>\n",
       "      <td>0.422111</td>\n",
       "      <td>0.350810</td>\n",
       "      <td>-0.140611</td>\n",
       "    </tr>\n",
       "  </tbody>\n",
       "</table>\n",
       "</div>"
      ],
      "text/plain": [
       "   frame_number        landmark         x         y         z\n",
       "0             0            NOSE  0.415256  0.361049 -0.164153\n",
       "1             0  LEFT_EYE_INNER  0.422111  0.350810 -0.140611"
      ]
     },
     "execution_count": 3,
     "metadata": {},
     "output_type": "execute_result"
    }
   ],
   "source": [
    "landmarks_df.head(2)"
   ]
  },
  {
   "cell_type": "markdown",
   "id": "c3e949f14034b7bd",
   "metadata": {},
   "source": [
    "# How it was collected and whats the data inside mean?\n",
    "\n",
    "The participant performed exercises while wearing sensors positioned at the elbows, wrists, and hip area. Additionally, video recordings were enhanced using MediaPipe to track key body points.\n",
    "\n",
    "The labels_df contains video frames and corresponding exercise labels\n",
    "* Label values range from -1 to 15:\n",
    "* * -1 indicates no exercise being performed at that moment\n",
    "* * 0-15 represent individual exercises\n",
    "* Labels were manually annotated using a separate program developed during the university classes\n",
    "\n",
    "The landmarks_df contains:\n",
    "* Frame numbers from the video recording\n",
    "* Position of each MediaPipe keypoint in X, Y, Z coordinates (3D space)\n"
   ]
  },
  {
   "cell_type": "markdown",
   "id": "8e37d31a6baf970f",
   "metadata": {},
   "source": [
    "### Dropping face, legs and finger keypoints as they are not necessary for movement classification"
   ]
  },
  {
   "cell_type": "code",
   "execution_count": 4,
   "id": "8286266e837cd824",
   "metadata": {
    "ExecuteTime": {
     "end_time": "2024-12-19T20:08:24.460112Z",
     "start_time": "2024-12-19T20:08:24.450999Z"
    }
   },
   "outputs": [],
   "source": [
    "head_landmarks = [\n",
    "    'NOSE', 'LEFT_EYE_INNER', 'LEFT_EYE', 'LEFT_EYE_OUTER',\n",
    "    'RIGHT_EYE_INNER', 'RIGHT_EYE', 'RIGHT_EYE_OUTER',\n",
    "    'LEFT_EAR', 'RIGHT_EAR', 'MOUTH_LEFT', 'MOUTH_RIGHT',\n",
    "    # Adding leg landmarks\n",
    "    'LEFT_KNEE', 'RIGHT_KNEE',\n",
    "    'LEFT_ANKLE', 'RIGHT_ANKLE',\n",
    "    'LEFT_HEEL', 'RIGHT_HEEL',\n",
    "    'LEFT_FOOT_INDEX', 'RIGHT_FOOT_INDEX',\n",
    "    # Adding finger landmarks\n",
    "    'LEFT_PINKY', 'RIGHT_PINKY',\n",
    "    'LEFT_INDEX', 'RIGHT_INDEX', \n",
    "    'LEFT_THUMB', 'RIGHT_THUMB'\n",
    "]\n",
    "\n",
    "landmarks_df = landmarks_df[~landmarks_df['landmark'].isin(head_landmarks)]"
   ]
  },
  {
   "cell_type": "code",
   "execution_count": 5,
   "id": "fb05afb12cb75f67",
   "metadata": {
    "ExecuteTime": {
     "end_time": "2024-12-19T20:08:24.505416Z",
     "start_time": "2024-12-19T20:08:24.502648Z"
    }
   },
   "outputs": [],
   "source": [
    "def process_landmarks_data(df):\n",
    "    pivoted_df = df.pivot(index='frame_number', \n",
    "                         columns='landmark', \n",
    "                         values=['x', 'y', 'z'])\n",
    "    \n",
    "    pivoted_df.columns = [f'{landmark}_{coord}' \n",
    "                         for coord, landmark in pivoted_df.columns]\n",
    "    \n",
    "    return pivoted_df.reset_index()"
   ]
  },
  {
   "cell_type": "code",
   "execution_count": 6,
   "id": "c06d72614cf53575",
   "metadata": {
    "ExecuteTime": {
     "end_time": "2024-12-19T20:08:24.533202Z",
     "start_time": "2024-12-19T20:08:24.520420Z"
    }
   },
   "outputs": [],
   "source": [
    "processed_landmarks_df = process_landmarks_data(landmarks_df)"
   ]
  },
  {
   "cell_type": "code",
   "execution_count": 7,
   "id": "3bb1cb2903cc27d8",
   "metadata": {
    "ExecuteTime": {
     "end_time": "2024-12-19T20:08:24.547658Z",
     "start_time": "2024-12-19T20:08:24.543544Z"
    }
   },
   "outputs": [],
   "source": [
    "df = pd.merge(processed_landmarks_df, \n",
    "                    labels_df,\n",
    "                    left_on='frame_number',\n",
    "                    right_on='frame',\n",
    "                    how='left')\n",
    "\n",
    "if 'frame' in df.columns:\n",
    "    df = df.drop('frame', axis=1)"
   ]
  },
  {
   "cell_type": "code",
   "execution_count": 8,
   "id": "8e5d2dad5997c968",
   "metadata": {
    "ExecuteTime": {
     "end_time": "2024-12-19T20:08:24.560219Z",
     "start_time": "2024-12-19T20:08:24.558109Z"
    }
   },
   "outputs": [],
   "source": [
    "df['exercise'] = pd.to_numeric(df['exercise'])"
   ]
  },
  {
   "cell_type": "code",
   "execution_count": 9,
   "id": "1c5506f4d880d526",
   "metadata": {
    "ExecuteTime": {
     "end_time": "2024-12-19T20:08:24.577056Z",
     "start_time": "2024-12-19T20:08:24.569218Z"
    }
   },
   "outputs": [
    {
     "data": {
      "text/html": [
       "<div>\n",
       "<style scoped>\n",
       "    .dataframe tbody tr th:only-of-type {\n",
       "        vertical-align: middle;\n",
       "    }\n",
       "\n",
       "    .dataframe tbody tr th {\n",
       "        vertical-align: top;\n",
       "    }\n",
       "\n",
       "    .dataframe thead th {\n",
       "        text-align: right;\n",
       "    }\n",
       "</style>\n",
       "<table border=\"1\" class=\"dataframe\">\n",
       "  <thead>\n",
       "    <tr style=\"text-align: right;\">\n",
       "      <th></th>\n",
       "      <th>frame_number</th>\n",
       "      <th>LEFT_ELBOW_x</th>\n",
       "      <th>LEFT_HIP_x</th>\n",
       "      <th>LEFT_SHOULDER_x</th>\n",
       "      <th>LEFT_WRIST_x</th>\n",
       "      <th>RIGHT_ELBOW_x</th>\n",
       "      <th>RIGHT_HIP_x</th>\n",
       "      <th>RIGHT_SHOULDER_x</th>\n",
       "      <th>RIGHT_WRIST_x</th>\n",
       "      <th>LEFT_ELBOW_y</th>\n",
       "      <th>...</th>\n",
       "      <th>RIGHT_WRIST_y</th>\n",
       "      <th>LEFT_ELBOW_z</th>\n",
       "      <th>LEFT_HIP_z</th>\n",
       "      <th>LEFT_SHOULDER_z</th>\n",
       "      <th>LEFT_WRIST_z</th>\n",
       "      <th>RIGHT_ELBOW_z</th>\n",
       "      <th>RIGHT_HIP_z</th>\n",
       "      <th>RIGHT_SHOULDER_z</th>\n",
       "      <th>RIGHT_WRIST_z</th>\n",
       "      <th>exercise</th>\n",
       "    </tr>\n",
       "  </thead>\n",
       "  <tbody>\n",
       "    <tr>\n",
       "      <th>0</th>\n",
       "      <td>0</td>\n",
       "      <td>0.494306</td>\n",
       "      <td>0.435416</td>\n",
       "      <td>0.461974</td>\n",
       "      <td>0.492193</td>\n",
       "      <td>0.320912</td>\n",
       "      <td>0.381529</td>\n",
       "      <td>0.367181</td>\n",
       "      <td>0.322582</td>\n",
       "      <td>0.507141</td>\n",
       "      <td>...</td>\n",
       "      <td>0.502203</td>\n",
       "      <td>-0.089719</td>\n",
       "      <td>0.000337</td>\n",
       "      <td>0.039939</td>\n",
       "      <td>-0.346921</td>\n",
       "      <td>-0.075649</td>\n",
       "      <td>-0.000382</td>\n",
       "      <td>0.042103</td>\n",
       "      <td>-0.336874</td>\n",
       "      <td>-1</td>\n",
       "    </tr>\n",
       "    <tr>\n",
       "      <th>1</th>\n",
       "      <td>1</td>\n",
       "      <td>0.492015</td>\n",
       "      <td>0.435435</td>\n",
       "      <td>0.462259</td>\n",
       "      <td>0.491906</td>\n",
       "      <td>0.320943</td>\n",
       "      <td>0.381469</td>\n",
       "      <td>0.366824</td>\n",
       "      <td>0.320433</td>\n",
       "      <td>0.521023</td>\n",
       "      <td>...</td>\n",
       "      <td>0.503574</td>\n",
       "      <td>-0.093571</td>\n",
       "      <td>0.000344</td>\n",
       "      <td>0.051836</td>\n",
       "      <td>-0.364749</td>\n",
       "      <td>-0.065798</td>\n",
       "      <td>-0.000387</td>\n",
       "      <td>0.052328</td>\n",
       "      <td>-0.318225</td>\n",
       "      <td>-1</td>\n",
       "    </tr>\n",
       "    <tr>\n",
       "      <th>2</th>\n",
       "      <td>2</td>\n",
       "      <td>0.492051</td>\n",
       "      <td>0.435449</td>\n",
       "      <td>0.462260</td>\n",
       "      <td>0.491421</td>\n",
       "      <td>0.320974</td>\n",
       "      <td>0.381461</td>\n",
       "      <td>0.366673</td>\n",
       "      <td>0.319015</td>\n",
       "      <td>0.517668</td>\n",
       "      <td>...</td>\n",
       "      <td>0.498068</td>\n",
       "      <td>-0.108150</td>\n",
       "      <td>0.000348</td>\n",
       "      <td>0.058875</td>\n",
       "      <td>-0.375957</td>\n",
       "      <td>-0.076405</td>\n",
       "      <td>-0.000389</td>\n",
       "      <td>0.058376</td>\n",
       "      <td>-0.319684</td>\n",
       "      <td>-1</td>\n",
       "    </tr>\n",
       "    <tr>\n",
       "      <th>3</th>\n",
       "      <td>3</td>\n",
       "      <td>0.491493</td>\n",
       "      <td>0.435497</td>\n",
       "      <td>0.462321</td>\n",
       "      <td>0.492260</td>\n",
       "      <td>0.320294</td>\n",
       "      <td>0.381467</td>\n",
       "      <td>0.366689</td>\n",
       "      <td>0.318692</td>\n",
       "      <td>0.525453</td>\n",
       "      <td>...</td>\n",
       "      <td>0.488508</td>\n",
       "      <td>-0.073606</td>\n",
       "      <td>0.001731</td>\n",
       "      <td>0.072559</td>\n",
       "      <td>-0.326744</td>\n",
       "      <td>-0.084063</td>\n",
       "      <td>-0.001726</td>\n",
       "      <td>0.055875</td>\n",
       "      <td>-0.333625</td>\n",
       "      <td>-1</td>\n",
       "    </tr>\n",
       "    <tr>\n",
       "      <th>4</th>\n",
       "      <td>4</td>\n",
       "      <td>0.491555</td>\n",
       "      <td>0.435549</td>\n",
       "      <td>0.462301</td>\n",
       "      <td>0.493636</td>\n",
       "      <td>0.318972</td>\n",
       "      <td>0.381528</td>\n",
       "      <td>0.366703</td>\n",
       "      <td>0.318285</td>\n",
       "      <td>0.523011</td>\n",
       "      <td>...</td>\n",
       "      <td>0.481967</td>\n",
       "      <td>-0.078110</td>\n",
       "      <td>0.002196</td>\n",
       "      <td>0.068983</td>\n",
       "      <td>-0.335180</td>\n",
       "      <td>-0.097579</td>\n",
       "      <td>-0.002175</td>\n",
       "      <td>0.054835</td>\n",
       "      <td>-0.344045</td>\n",
       "      <td>-1</td>\n",
       "    </tr>\n",
       "  </tbody>\n",
       "</table>\n",
       "<p>5 rows × 26 columns</p>\n",
       "</div>"
      ],
      "text/plain": [
       "   frame_number  LEFT_ELBOW_x  LEFT_HIP_x  LEFT_SHOULDER_x  LEFT_WRIST_x  \\\n",
       "0             0      0.494306    0.435416         0.461974      0.492193   \n",
       "1             1      0.492015    0.435435         0.462259      0.491906   \n",
       "2             2      0.492051    0.435449         0.462260      0.491421   \n",
       "3             3      0.491493    0.435497         0.462321      0.492260   \n",
       "4             4      0.491555    0.435549         0.462301      0.493636   \n",
       "\n",
       "   RIGHT_ELBOW_x  RIGHT_HIP_x  RIGHT_SHOULDER_x  RIGHT_WRIST_x  LEFT_ELBOW_y  \\\n",
       "0       0.320912     0.381529          0.367181       0.322582      0.507141   \n",
       "1       0.320943     0.381469          0.366824       0.320433      0.521023   \n",
       "2       0.320974     0.381461          0.366673       0.319015      0.517668   \n",
       "3       0.320294     0.381467          0.366689       0.318692      0.525453   \n",
       "4       0.318972     0.381528          0.366703       0.318285      0.523011   \n",
       "\n",
       "   ...  RIGHT_WRIST_y  LEFT_ELBOW_z  LEFT_HIP_z  LEFT_SHOULDER_z  \\\n",
       "0  ...       0.502203     -0.089719    0.000337         0.039939   \n",
       "1  ...       0.503574     -0.093571    0.000344         0.051836   \n",
       "2  ...       0.498068     -0.108150    0.000348         0.058875   \n",
       "3  ...       0.488508     -0.073606    0.001731         0.072559   \n",
       "4  ...       0.481967     -0.078110    0.002196         0.068983   \n",
       "\n",
       "   LEFT_WRIST_z  RIGHT_ELBOW_z  RIGHT_HIP_z  RIGHT_SHOULDER_z  RIGHT_WRIST_z  \\\n",
       "0     -0.346921      -0.075649    -0.000382          0.042103      -0.336874   \n",
       "1     -0.364749      -0.065798    -0.000387          0.052328      -0.318225   \n",
       "2     -0.375957      -0.076405    -0.000389          0.058376      -0.319684   \n",
       "3     -0.326744      -0.084063    -0.001726          0.055875      -0.333625   \n",
       "4     -0.335180      -0.097579    -0.002175          0.054835      -0.344045   \n",
       "\n",
       "   exercise  \n",
       "0        -1  \n",
       "1        -1  \n",
       "2        -1  \n",
       "3        -1  \n",
       "4        -1  \n",
       "\n",
       "[5 rows x 26 columns]"
      ]
     },
     "execution_count": 9,
     "metadata": {},
     "output_type": "execute_result"
    }
   ],
   "source": [
    "df.head(5)"
   ]
  },
  {
   "cell_type": "code",
   "execution_count": 10,
   "id": "bca4a9d52e47e851",
   "metadata": {
    "ExecuteTime": {
     "end_time": "2024-12-19T20:08:24.721836Z",
     "start_time": "2024-12-19T20:08:24.601932Z"
    }
   },
   "outputs": [],
   "source": [
    "df.to_csv(os.path.join('data', 'data.csv'), index=False)"
   ]
  },
  {
   "cell_type": "markdown",
   "id": "474a30dbb92c4f49",
   "metadata": {},
   "source": [
    "### Data informations"
   ]
  },
  {
   "cell_type": "code",
   "execution_count": 11,
   "id": "395289562f6e4925",
   "metadata": {
    "ExecuteTime": {
     "end_time": "2024-12-19T20:08:24.747023Z",
     "start_time": "2024-12-19T20:08:24.741353Z"
    }
   },
   "outputs": [
    {
     "name": "stdout",
     "output_type": "stream",
     "text": [
      "<class 'pandas.core.frame.DataFrame'>\n",
      "RangeIndex: 8407 entries, 0 to 8406\n",
      "Data columns (total 26 columns):\n",
      " #   Column            Non-Null Count  Dtype  \n",
      "---  ------            --------------  -----  \n",
      " 0   frame_number      8407 non-null   int64  \n",
      " 1   LEFT_ELBOW_x      8407 non-null   float64\n",
      " 2   LEFT_HIP_x        8407 non-null   float64\n",
      " 3   LEFT_SHOULDER_x   8407 non-null   float64\n",
      " 4   LEFT_WRIST_x      8407 non-null   float64\n",
      " 5   RIGHT_ELBOW_x     8407 non-null   float64\n",
      " 6   RIGHT_HIP_x       8407 non-null   float64\n",
      " 7   RIGHT_SHOULDER_x  8407 non-null   float64\n",
      " 8   RIGHT_WRIST_x     8407 non-null   float64\n",
      " 9   LEFT_ELBOW_y      8407 non-null   float64\n",
      " 10  LEFT_HIP_y        8407 non-null   float64\n",
      " 11  LEFT_SHOULDER_y   8407 non-null   float64\n",
      " 12  LEFT_WRIST_y      8407 non-null   float64\n",
      " 13  RIGHT_ELBOW_y     8407 non-null   float64\n",
      " 14  RIGHT_HIP_y       8407 non-null   float64\n",
      " 15  RIGHT_SHOULDER_y  8407 non-null   float64\n",
      " 16  RIGHT_WRIST_y     8407 non-null   float64\n",
      " 17  LEFT_ELBOW_z      8407 non-null   float64\n",
      " 18  LEFT_HIP_z        8407 non-null   float64\n",
      " 19  LEFT_SHOULDER_z   8407 non-null   float64\n",
      " 20  LEFT_WRIST_z      8407 non-null   float64\n",
      " 21  RIGHT_ELBOW_z     8407 non-null   float64\n",
      " 22  RIGHT_HIP_z       8407 non-null   float64\n",
      " 23  RIGHT_SHOULDER_z  8407 non-null   float64\n",
      " 24  RIGHT_WRIST_z     8407 non-null   float64\n",
      " 25  exercise          8407 non-null   int64  \n",
      "dtypes: float64(24), int64(2)\n",
      "memory usage: 1.7 MB\n"
     ]
    }
   ],
   "source": [
    "df.info()"
   ]
  },
  {
   "cell_type": "code",
   "execution_count": 12,
   "id": "7899438925e8bfcf",
   "metadata": {
    "ExecuteTime": {
     "end_time": "2024-12-19T20:08:24.767541Z",
     "start_time": "2024-12-19T20:08:24.761025Z"
    }
   },
   "outputs": [
    {
     "data": {
      "text/html": [
       "<div>\n",
       "<style scoped>\n",
       "    .dataframe tbody tr th:only-of-type {\n",
       "        vertical-align: middle;\n",
       "    }\n",
       "\n",
       "    .dataframe tbody tr th {\n",
       "        vertical-align: top;\n",
       "    }\n",
       "\n",
       "    .dataframe thead th {\n",
       "        text-align: right;\n",
       "    }\n",
       "</style>\n",
       "<table border=\"1\" class=\"dataframe\">\n",
       "  <thead>\n",
       "    <tr style=\"text-align: right;\">\n",
       "      <th></th>\n",
       "      <th>frame_number</th>\n",
       "      <th>LEFT_ELBOW_x</th>\n",
       "      <th>LEFT_HIP_x</th>\n",
       "      <th>LEFT_SHOULDER_x</th>\n",
       "      <th>LEFT_WRIST_x</th>\n",
       "      <th>RIGHT_ELBOW_x</th>\n",
       "      <th>RIGHT_HIP_x</th>\n",
       "      <th>RIGHT_SHOULDER_x</th>\n",
       "      <th>RIGHT_WRIST_x</th>\n",
       "      <th>LEFT_ELBOW_y</th>\n",
       "      <th>...</th>\n",
       "      <th>RIGHT_WRIST_y</th>\n",
       "      <th>LEFT_ELBOW_z</th>\n",
       "      <th>LEFT_HIP_z</th>\n",
       "      <th>LEFT_SHOULDER_z</th>\n",
       "      <th>LEFT_WRIST_z</th>\n",
       "      <th>RIGHT_ELBOW_z</th>\n",
       "      <th>RIGHT_HIP_z</th>\n",
       "      <th>RIGHT_SHOULDER_z</th>\n",
       "      <th>RIGHT_WRIST_z</th>\n",
       "      <th>exercise</th>\n",
       "    </tr>\n",
       "  </thead>\n",
       "  <tbody>\n",
       "    <tr>\n",
       "      <th>0</th>\n",
       "      <td>0</td>\n",
       "      <td>0.494306</td>\n",
       "      <td>0.435416</td>\n",
       "      <td>0.461974</td>\n",
       "      <td>0.492193</td>\n",
       "      <td>0.320912</td>\n",
       "      <td>0.381529</td>\n",
       "      <td>0.367181</td>\n",
       "      <td>0.322582</td>\n",
       "      <td>0.507141</td>\n",
       "      <td>...</td>\n",
       "      <td>0.502203</td>\n",
       "      <td>-0.089719</td>\n",
       "      <td>0.000337</td>\n",
       "      <td>0.039939</td>\n",
       "      <td>-0.346921</td>\n",
       "      <td>-0.075649</td>\n",
       "      <td>-0.000382</td>\n",
       "      <td>0.042103</td>\n",
       "      <td>-0.336874</td>\n",
       "      <td>-1</td>\n",
       "    </tr>\n",
       "    <tr>\n",
       "      <th>1</th>\n",
       "      <td>1</td>\n",
       "      <td>0.492015</td>\n",
       "      <td>0.435435</td>\n",
       "      <td>0.462259</td>\n",
       "      <td>0.491906</td>\n",
       "      <td>0.320943</td>\n",
       "      <td>0.381469</td>\n",
       "      <td>0.366824</td>\n",
       "      <td>0.320433</td>\n",
       "      <td>0.521023</td>\n",
       "      <td>...</td>\n",
       "      <td>0.503574</td>\n",
       "      <td>-0.093571</td>\n",
       "      <td>0.000344</td>\n",
       "      <td>0.051836</td>\n",
       "      <td>-0.364749</td>\n",
       "      <td>-0.065798</td>\n",
       "      <td>-0.000387</td>\n",
       "      <td>0.052328</td>\n",
       "      <td>-0.318225</td>\n",
       "      <td>-1</td>\n",
       "    </tr>\n",
       "  </tbody>\n",
       "</table>\n",
       "<p>2 rows × 26 columns</p>\n",
       "</div>"
      ],
      "text/plain": [
       "   frame_number  LEFT_ELBOW_x  LEFT_HIP_x  LEFT_SHOULDER_x  LEFT_WRIST_x  \\\n",
       "0             0      0.494306    0.435416         0.461974      0.492193   \n",
       "1             1      0.492015    0.435435         0.462259      0.491906   \n",
       "\n",
       "   RIGHT_ELBOW_x  RIGHT_HIP_x  RIGHT_SHOULDER_x  RIGHT_WRIST_x  LEFT_ELBOW_y  \\\n",
       "0       0.320912     0.381529          0.367181       0.322582      0.507141   \n",
       "1       0.320943     0.381469          0.366824       0.320433      0.521023   \n",
       "\n",
       "   ...  RIGHT_WRIST_y  LEFT_ELBOW_z  LEFT_HIP_z  LEFT_SHOULDER_z  \\\n",
       "0  ...       0.502203     -0.089719    0.000337         0.039939   \n",
       "1  ...       0.503574     -0.093571    0.000344         0.051836   \n",
       "\n",
       "   LEFT_WRIST_z  RIGHT_ELBOW_z  RIGHT_HIP_z  RIGHT_SHOULDER_z  RIGHT_WRIST_z  \\\n",
       "0     -0.346921      -0.075649    -0.000382          0.042103      -0.336874   \n",
       "1     -0.364749      -0.065798    -0.000387          0.052328      -0.318225   \n",
       "\n",
       "   exercise  \n",
       "0        -1  \n",
       "1        -1  \n",
       "\n",
       "[2 rows x 26 columns]"
      ]
     },
     "execution_count": 12,
     "metadata": {},
     "output_type": "execute_result"
    }
   ],
   "source": [
    "df.head(2)"
   ]
  },
  {
   "cell_type": "markdown",
   "id": "fe447dca31571de9",
   "metadata": {},
   "source": [
    "### Drop column and save data for model"
   ]
  },
  {
   "cell_type": "code",
   "execution_count": 13,
   "id": "8f17dd01fb68411c",
   "metadata": {
    "ExecuteTime": {
     "end_time": "2024-12-19T20:08:24.916951Z",
     "start_time": "2024-12-19T20:08:24.794279Z"
    }
   },
   "outputs": [],
   "source": [
    "df = df.drop(columns='frame_number')\n",
    "df.to_csv(os.path.join('data', 'data_for_model.csv'), index=False)"
   ]
  },
  {
   "cell_type": "code",
   "execution_count": null,
   "id": "1eb7c641-dfa4-423f-8117-891aee7b200c",
   "metadata": {},
   "outputs": [],
   "source": []
  }
 ],
 "metadata": {
  "kernelspec": {
   "display_name": "Python 3 (ipykernel)",
   "language": "python",
   "name": "python3"
  },
  "language_info": {
   "codemirror_mode": {
    "name": "ipython",
    "version": 3
   },
   "file_extension": ".py",
   "mimetype": "text/x-python",
   "name": "python",
   "nbconvert_exporter": "python",
   "pygments_lexer": "ipython3",
   "version": "3.11.10"
  }
 },
 "nbformat": 4,
 "nbformat_minor": 5
}
